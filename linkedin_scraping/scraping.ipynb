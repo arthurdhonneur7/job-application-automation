{
 "cells": [
  {
   "cell_type": "markdown",
   "metadata": {},
   "source": [
    "# Testing out linkeding scraping possibilities\n"
   ]
  },
  {
   "cell_type": "code",
   "execution_count": 1,
   "metadata": {},
   "outputs": [],
   "source": [
    "import pandas as pd\n",
    "from bs4 import BeautifulSoup\n",
    "import requests\n",
    "import nodriver as uc\n",
    "import time\n",
    "import os\n",
    "import random\n",
    "import asyncio\n",
    "import logging\n",
    "import random\n",
    "import string"
   ]
  },
  {
   "cell_type": "code",
   "execution_count": 2,
   "metadata": {},
   "outputs": [],
   "source": [
    "logging.basicConfig(level=30)\n",
    "\n",
    "try:\n",
    "    import nodriver as uc\n",
    "except (ModuleNotFoundError, ImportError):\n",
    "    import os\n",
    "    import sys\n",
    "\n",
    "    sys.path.insert(0, os.path.join(os.path.dirname(__file__), \"..\"))\n",
    "    import nodriver as uc"
   ]
  },
  {
   "cell_type": "code",
   "execution_count": 3,
   "metadata": {},
   "outputs": [
    {
     "name": "stdout",
     "output_type": "stream",
     "text": [
      "https://www.linkedin.com/messaging/thread/2-MDE5NDJlNTctMjA0Yi00MjZhLWI0NzktZDkzZjAyMTdjNjIxXzAxMg==/\n"
     ]
    }
   ],
   "source": [
    "url = 'https://www.linkedin.com/messaging/thread/2-MDE5NDJlNTctMjA0Yi00MjZhLWI0NzktZDkzZjAyMTdjNjIxXzAxMg==/'\n",
    "print(url)"
   ]
  },
  {
   "cell_type": "code",
   "execution_count": 4,
   "metadata": {},
   "outputs": [
    {
     "ename": "ConnectionRefusedError",
     "evalue": "[Errno 61] Connect call failed ('127.0.0.1', 52703)",
     "output_type": "error",
     "traceback": [
      "\u001b[0;31m---------------------------------------------------------------------------\u001b[0m",
      "\u001b[0;31mConnectionRefusedError\u001b[0m                    Traceback (most recent call last)",
      "Cell \u001b[0;32mIn[4], line 8\u001b[0m\n\u001b[1;32m      5\u001b[0m time\u001b[38;5;241m.\u001b[39msleep(\u001b[38;5;241m4\u001b[39m)\n\u001b[1;32m      7\u001b[0m \u001b[38;5;66;03m# let's handle the cookie nag as well\u001b[39;00m\n\u001b[0;32m----> 8\u001b[0m cookie_bar_accept \u001b[38;5;241m=\u001b[39m \u001b[38;5;28;01mawait\u001b[39;00m tab\u001b[38;5;241m.\u001b[39mfind(\u001b[38;5;124m\"\u001b[39m\u001b[38;5;124mAccepter\u001b[39m\u001b[38;5;124m\"\u001b[39m, best_match\u001b[38;5;241m=\u001b[39m\u001b[38;5;28;01mTrue\u001b[39;00m)\n\u001b[1;32m      9\u001b[0m \u001b[38;5;28;01mif\u001b[39;00m cookie_bar_accept:\n\u001b[1;32m     10\u001b[0m     \u001b[38;5;28;01mawait\u001b[39;00m cookie_bar_accept\u001b[38;5;241m.\u001b[39mclick()\n",
      "File \u001b[0;32m/opt/anaconda3/envs/scraping/lib/python3.11/site-packages/nodriver/core/tab.py:292\u001b[0m, in \u001b[0;36mTab.find\u001b[0;34m(self, text, best_match, return_enclosing_element, timeout)\u001b[0m\n\u001b[1;32m    290\u001b[0m \u001b[38;5;28;01mwhile\u001b[39;00m \u001b[38;5;129;01mnot\u001b[39;00m item:\n\u001b[1;32m    291\u001b[0m     \u001b[38;5;28;01mawait\u001b[39;00m \u001b[38;5;28mself\u001b[39m\n\u001b[0;32m--> 292\u001b[0m     item \u001b[38;5;241m=\u001b[39m \u001b[38;5;28;01mawait\u001b[39;00m \u001b[38;5;28mself\u001b[39m\u001b[38;5;241m.\u001b[39mfind_element_by_text(\n\u001b[1;32m    293\u001b[0m         text, best_match, return_enclosing_element\n\u001b[1;32m    294\u001b[0m     )\n\u001b[1;32m    295\u001b[0m     \u001b[38;5;28;01mif\u001b[39;00m loop\u001b[38;5;241m.\u001b[39mtime() \u001b[38;5;241m-\u001b[39m start_time \u001b[38;5;241m>\u001b[39m timeout:\n\u001b[1;32m    296\u001b[0m         \u001b[38;5;28;01mreturn\u001b[39;00m item\n",
      "File \u001b[0;32m/opt/anaconda3/envs/scraping/lib/python3.11/site-packages/nodriver/core/tab.py:703\u001b[0m, in \u001b[0;36mTab.find_element_by_text\u001b[0;34m(self, text, best_match, return_enclosing_element)\u001b[0m\n\u001b[1;32m    681\u001b[0m \u001b[38;5;28;01masync\u001b[39;00m \u001b[38;5;28;01mdef\u001b[39;00m\u001b[38;5;250m \u001b[39m\u001b[38;5;21mfind_element_by_text\u001b[39m(\n\u001b[1;32m    682\u001b[0m     \u001b[38;5;28mself\u001b[39m,\n\u001b[1;32m    683\u001b[0m     text: \u001b[38;5;28mstr\u001b[39m,\n\u001b[1;32m    684\u001b[0m     best_match: Optional[\u001b[38;5;28mbool\u001b[39m] \u001b[38;5;241m=\u001b[39m \u001b[38;5;28;01mFalse\u001b[39;00m,\n\u001b[1;32m    685\u001b[0m     return_enclosing_element: Optional[\u001b[38;5;28mbool\u001b[39m] \u001b[38;5;241m=\u001b[39m \u001b[38;5;28;01mTrue\u001b[39;00m,\n\u001b[1;32m    686\u001b[0m ) \u001b[38;5;241m-\u001b[39m\u001b[38;5;241m>\u001b[39m Union[element\u001b[38;5;241m.\u001b[39mElement, \u001b[38;5;28;01mNone\u001b[39;00m]:\n\u001b[1;32m    687\u001b[0m \u001b[38;5;250m    \u001b[39m\u001b[38;5;124;03m\"\"\"\u001b[39;00m\n\u001b[1;32m    688\u001b[0m \u001b[38;5;124;03m    finds and returns the first element containing <text>, or best match\u001b[39;00m\n\u001b[1;32m    689\u001b[0m \n\u001b[0;32m   (...)\u001b[0m\n\u001b[1;32m    701\u001b[0m \u001b[38;5;124;03m    :rtype:\u001b[39;00m\n\u001b[1;32m    702\u001b[0m \u001b[38;5;124;03m    \"\"\"\u001b[39;00m\n\u001b[0;32m--> 703\u001b[0m     doc \u001b[38;5;241m=\u001b[39m \u001b[38;5;28;01mawait\u001b[39;00m \u001b[38;5;28mself\u001b[39m\u001b[38;5;241m.\u001b[39msend(cdp\u001b[38;5;241m.\u001b[39mdom\u001b[38;5;241m.\u001b[39mget_document(\u001b[38;5;241m-\u001b[39m\u001b[38;5;241m1\u001b[39m, \u001b[38;5;28;01mTrue\u001b[39;00m))\n\u001b[1;32m    704\u001b[0m     text \u001b[38;5;241m=\u001b[39m text\u001b[38;5;241m.\u001b[39mstrip()\n\u001b[1;32m    705\u001b[0m     search_id, nresult \u001b[38;5;241m=\u001b[39m \u001b[38;5;28;01mawait\u001b[39;00m \u001b[38;5;28mself\u001b[39m\u001b[38;5;241m.\u001b[39msend(cdp\u001b[38;5;241m.\u001b[39mdom\u001b[38;5;241m.\u001b[39mperform_search(text, \u001b[38;5;28;01mTrue\u001b[39;00m))\n",
      "File \u001b[0;32m/opt/anaconda3/envs/scraping/lib/python3.11/site-packages/nodriver/core/connection.py:510\u001b[0m, in \u001b[0;36mConnection.send\u001b[0;34m(self, cdp_obj, _is_update)\u001b[0m\n\u001b[1;32m    498\u001b[0m \u001b[38;5;250m\u001b[39m\u001b[38;5;124;03m\"\"\"\u001b[39;00m\n\u001b[1;32m    499\u001b[0m \u001b[38;5;124;03msend a protocol command. the commands are made using any of the cdp.<domain>.<method>()'s\u001b[39;00m\n\u001b[1;32m    500\u001b[0m \u001b[38;5;124;03mand is used to send custom cdp commands as well.\u001b[39;00m\n\u001b[0;32m   (...)\u001b[0m\n\u001b[1;32m    507\u001b[0m \u001b[38;5;124;03m:return:\u001b[39;00m\n\u001b[1;32m    508\u001b[0m \u001b[38;5;124;03m\"\"\"\u001b[39;00m\n\u001b[1;32m    509\u001b[0m \u001b[38;5;28;01mif\u001b[39;00m \u001b[38;5;28mself\u001b[39m\u001b[38;5;241m.\u001b[39mclosed:\n\u001b[0;32m--> 510\u001b[0m     \u001b[38;5;28;01mawait\u001b[39;00m \u001b[38;5;28mself\u001b[39m\u001b[38;5;241m.\u001b[39mconnect()\n\u001b[1;32m    511\u001b[0m \u001b[38;5;28;01mif\u001b[39;00m \u001b[38;5;129;01mnot\u001b[39;00m _is_update:\n\u001b[1;32m    512\u001b[0m     \u001b[38;5;28;01mawait\u001b[39;00m \u001b[38;5;28mself\u001b[39m\u001b[38;5;241m.\u001b[39m_register_handlers()\n",
      "File \u001b[0;32m/opt/anaconda3/envs/scraping/lib/python3.11/site-packages/nodriver/core/connection.py:325\u001b[0m, in \u001b[0;36mConnection.connect\u001b[0;34m(self, **kw)\u001b[0m\n\u001b[1;32m    323\u001b[0m \u001b[38;5;28;01mif\u001b[39;00m \u001b[38;5;129;01mnot\u001b[39;00m \u001b[38;5;28mself\u001b[39m\u001b[38;5;241m.\u001b[39mwebsocket \u001b[38;5;129;01mor\u001b[39;00m \u001b[38;5;28mbool\u001b[39m(\u001b[38;5;28mself\u001b[39m\u001b[38;5;241m.\u001b[39mwebsocket\u001b[38;5;241m.\u001b[39mclose_code):\n\u001b[1;32m    324\u001b[0m     \u001b[38;5;28;01mtry\u001b[39;00m:\n\u001b[0;32m--> 325\u001b[0m         \u001b[38;5;28mself\u001b[39m\u001b[38;5;241m.\u001b[39m_websocket \u001b[38;5;241m=\u001b[39m \u001b[38;5;28;01mawait\u001b[39;00m websockets\u001b[38;5;241m.\u001b[39mconnect(\n\u001b[1;32m    326\u001b[0m             \u001b[38;5;28mself\u001b[39m\u001b[38;5;241m.\u001b[39mwebsocket_url,\n\u001b[1;32m    327\u001b[0m             ping_timeout\u001b[38;5;241m=\u001b[39mPING_TIMEOUT,\n\u001b[1;32m    328\u001b[0m             max_size\u001b[38;5;241m=\u001b[39mMAX_SIZE,\n\u001b[1;32m    329\u001b[0m         )\n\u001b[1;32m    330\u001b[0m         \u001b[38;5;28mself\u001b[39m\u001b[38;5;241m.\u001b[39m_listener_task \u001b[38;5;241m=\u001b[39m asyncio\u001b[38;5;241m.\u001b[39mensure_future(\u001b[38;5;28mself\u001b[39m\u001b[38;5;241m.\u001b[39m_listener())\n\u001b[1;32m    332\u001b[0m     \u001b[38;5;28;01mexcept\u001b[39;00m (\u001b[38;5;167;01mException\u001b[39;00m,) \u001b[38;5;28;01mas\u001b[39;00m e:\n",
      "File \u001b[0;32m/opt/anaconda3/envs/scraping/lib/python3.11/site-packages/websockets/asyncio/client.py:444\u001b[0m, in \u001b[0;36mconnect.__await_impl__\u001b[0;34m(self)\u001b[0m\n\u001b[1;32m    442\u001b[0m \u001b[38;5;28;01masync\u001b[39;00m \u001b[38;5;28;01mwith\u001b[39;00m asyncio_timeout(\u001b[38;5;28mself\u001b[39m\u001b[38;5;241m.\u001b[39mopen_timeout):\n\u001b[1;32m    443\u001b[0m     \u001b[38;5;28;01mfor\u001b[39;00m _ \u001b[38;5;129;01min\u001b[39;00m \u001b[38;5;28mrange\u001b[39m(MAX_REDIRECTS):\n\u001b[0;32m--> 444\u001b[0m         \u001b[38;5;28mself\u001b[39m\u001b[38;5;241m.\u001b[39mconnection \u001b[38;5;241m=\u001b[39m \u001b[38;5;28;01mawait\u001b[39;00m \u001b[38;5;28mself\u001b[39m\u001b[38;5;241m.\u001b[39mcreate_connection()\n\u001b[1;32m    445\u001b[0m         \u001b[38;5;28;01mtry\u001b[39;00m:\n\u001b[1;32m    446\u001b[0m             \u001b[38;5;28;01mawait\u001b[39;00m \u001b[38;5;28mself\u001b[39m\u001b[38;5;241m.\u001b[39mconnection\u001b[38;5;241m.\u001b[39mhandshake(\u001b[38;5;241m*\u001b[39m\u001b[38;5;28mself\u001b[39m\u001b[38;5;241m.\u001b[39mhandshake_args)\n",
      "File \u001b[0;32m/opt/anaconda3/envs/scraping/lib/python3.11/site-packages/websockets/asyncio/client.py:370\u001b[0m, in \u001b[0;36mconnect.create_connection\u001b[0;34m(self)\u001b[0m\n\u001b[1;32m    368\u001b[0m         kwargs\u001b[38;5;241m.\u001b[39msetdefault(\u001b[38;5;124m\"\u001b[39m\u001b[38;5;124mhost\u001b[39m\u001b[38;5;124m\"\u001b[39m, wsuri\u001b[38;5;241m.\u001b[39mhost)\n\u001b[1;32m    369\u001b[0m         kwargs\u001b[38;5;241m.\u001b[39msetdefault(\u001b[38;5;124m\"\u001b[39m\u001b[38;5;124mport\u001b[39m\u001b[38;5;124m\"\u001b[39m, wsuri\u001b[38;5;241m.\u001b[39mport)\n\u001b[0;32m--> 370\u001b[0m     _, connection \u001b[38;5;241m=\u001b[39m \u001b[38;5;28;01mawait\u001b[39;00m loop\u001b[38;5;241m.\u001b[39mcreate_connection(factory, \u001b[38;5;241m*\u001b[39m\u001b[38;5;241m*\u001b[39mkwargs)\n\u001b[1;32m    371\u001b[0m \u001b[38;5;28;01mreturn\u001b[39;00m connection\n",
      "File \u001b[0;32m/opt/anaconda3/envs/scraping/lib/python3.11/asyncio/base_events.py:1086\u001b[0m, in \u001b[0;36mBaseEventLoop.create_connection\u001b[0;34m(self, protocol_factory, host, port, ssl, family, proto, flags, sock, local_addr, server_hostname, ssl_handshake_timeout, ssl_shutdown_timeout, happy_eyeballs_delay, interleave)\u001b[0m\n\u001b[1;32m   1084\u001b[0m \u001b[38;5;28;01mtry\u001b[39;00m:\n\u001b[1;32m   1085\u001b[0m     \u001b[38;5;28;01mif\u001b[39;00m \u001b[38;5;28mlen\u001b[39m(exceptions) \u001b[38;5;241m==\u001b[39m \u001b[38;5;241m1\u001b[39m:\n\u001b[0;32m-> 1086\u001b[0m         \u001b[38;5;28;01mraise\u001b[39;00m exceptions[\u001b[38;5;241m0\u001b[39m]\n\u001b[1;32m   1087\u001b[0m     \u001b[38;5;28;01melse\u001b[39;00m:\n\u001b[1;32m   1088\u001b[0m         \u001b[38;5;66;03m# If they all have the same str(), raise one.\u001b[39;00m\n\u001b[1;32m   1089\u001b[0m         model \u001b[38;5;241m=\u001b[39m \u001b[38;5;28mstr\u001b[39m(exceptions[\u001b[38;5;241m0\u001b[39m])\n",
      "File \u001b[0;32m/opt/anaconda3/envs/scraping/lib/python3.11/asyncio/base_events.py:1070\u001b[0m, in \u001b[0;36mBaseEventLoop.create_connection\u001b[0;34m(self, protocol_factory, host, port, ssl, family, proto, flags, sock, local_addr, server_hostname, ssl_handshake_timeout, ssl_shutdown_timeout, happy_eyeballs_delay, interleave)\u001b[0m\n\u001b[1;32m   1068\u001b[0m \u001b[38;5;28;01mfor\u001b[39;00m addrinfo \u001b[38;5;129;01min\u001b[39;00m infos:\n\u001b[1;32m   1069\u001b[0m     \u001b[38;5;28;01mtry\u001b[39;00m:\n\u001b[0;32m-> 1070\u001b[0m         sock \u001b[38;5;241m=\u001b[39m \u001b[38;5;28;01mawait\u001b[39;00m \u001b[38;5;28mself\u001b[39m\u001b[38;5;241m.\u001b[39m_connect_sock(\n\u001b[1;32m   1071\u001b[0m             exceptions, addrinfo, laddr_infos)\n\u001b[1;32m   1072\u001b[0m         \u001b[38;5;28;01mbreak\u001b[39;00m\n\u001b[1;32m   1073\u001b[0m     \u001b[38;5;28;01mexcept\u001b[39;00m \u001b[38;5;167;01mOSError\u001b[39;00m:\n",
      "File \u001b[0;32m/opt/anaconda3/envs/scraping/lib/python3.11/asyncio/base_events.py:974\u001b[0m, in \u001b[0;36mBaseEventLoop._connect_sock\u001b[0;34m(self, exceptions, addr_info, local_addr_infos)\u001b[0m\n\u001b[1;32m    972\u001b[0m             \u001b[38;5;28;01melse\u001b[39;00m:\n\u001b[1;32m    973\u001b[0m                 \u001b[38;5;28;01mraise\u001b[39;00m \u001b[38;5;167;01mOSError\u001b[39;00m(\u001b[38;5;124mf\u001b[39m\u001b[38;5;124m\"\u001b[39m\u001b[38;5;124mno matching local address with \u001b[39m\u001b[38;5;132;01m{\u001b[39;00mfamily\u001b[38;5;132;01m=}\u001b[39;00m\u001b[38;5;124m found\u001b[39m\u001b[38;5;124m\"\u001b[39m)\n\u001b[0;32m--> 974\u001b[0m     \u001b[38;5;28;01mawait\u001b[39;00m \u001b[38;5;28mself\u001b[39m\u001b[38;5;241m.\u001b[39msock_connect(sock, address)\n\u001b[1;32m    975\u001b[0m     \u001b[38;5;28;01mreturn\u001b[39;00m sock\n\u001b[1;32m    976\u001b[0m \u001b[38;5;28;01mexcept\u001b[39;00m \u001b[38;5;167;01mOSError\u001b[39;00m \u001b[38;5;28;01mas\u001b[39;00m exc:\n",
      "File \u001b[0;32m/opt/anaconda3/envs/scraping/lib/python3.11/asyncio/selector_events.py:638\u001b[0m, in \u001b[0;36mBaseSelectorEventLoop.sock_connect\u001b[0;34m(self, sock, address)\u001b[0m\n\u001b[1;32m    636\u001b[0m \u001b[38;5;28mself\u001b[39m\u001b[38;5;241m.\u001b[39m_sock_connect(fut, sock, address)\n\u001b[1;32m    637\u001b[0m \u001b[38;5;28;01mtry\u001b[39;00m:\n\u001b[0;32m--> 638\u001b[0m     \u001b[38;5;28;01mreturn\u001b[39;00m \u001b[38;5;28;01mawait\u001b[39;00m fut\n\u001b[1;32m    639\u001b[0m \u001b[38;5;28;01mfinally\u001b[39;00m:\n\u001b[1;32m    640\u001b[0m     \u001b[38;5;66;03m# Needed to break cycles when an exception occurs.\u001b[39;00m\n\u001b[1;32m    641\u001b[0m     fut \u001b[38;5;241m=\u001b[39m \u001b[38;5;28;01mNone\u001b[39;00m\n",
      "File \u001b[0;32m/opt/anaconda3/envs/scraping/lib/python3.11/asyncio/selector_events.py:678\u001b[0m, in \u001b[0;36mBaseSelectorEventLoop._sock_connect_cb\u001b[0;34m(self, fut, sock, address)\u001b[0m\n\u001b[1;32m    675\u001b[0m     err \u001b[38;5;241m=\u001b[39m sock\u001b[38;5;241m.\u001b[39mgetsockopt(socket\u001b[38;5;241m.\u001b[39mSOL_SOCKET, socket\u001b[38;5;241m.\u001b[39mSO_ERROR)\n\u001b[1;32m    676\u001b[0m     \u001b[38;5;28;01mif\u001b[39;00m err \u001b[38;5;241m!=\u001b[39m \u001b[38;5;241m0\u001b[39m:\n\u001b[1;32m    677\u001b[0m         \u001b[38;5;66;03m# Jump to any except clause below.\u001b[39;00m\n\u001b[0;32m--> 678\u001b[0m         \u001b[38;5;28;01mraise\u001b[39;00m \u001b[38;5;167;01mOSError\u001b[39;00m(err, \u001b[38;5;124mf\u001b[39m\u001b[38;5;124m'\u001b[39m\u001b[38;5;124mConnect call failed \u001b[39m\u001b[38;5;132;01m{\u001b[39;00maddress\u001b[38;5;132;01m}\u001b[39;00m\u001b[38;5;124m'\u001b[39m)\n\u001b[1;32m    679\u001b[0m \u001b[38;5;28;01mexcept\u001b[39;00m (\u001b[38;5;167;01mBlockingIOError\u001b[39;00m, \u001b[38;5;167;01mInterruptedError\u001b[39;00m):\n\u001b[1;32m    680\u001b[0m     \u001b[38;5;66;03m# socket is still registered, the callback will be retried later\u001b[39;00m\n\u001b[1;32m    681\u001b[0m     \u001b[38;5;28;01mpass\u001b[39;00m\n",
      "\u001b[0;31mConnectionRefusedError\u001b[0m: [Errno 61] Connect call failed ('127.0.0.1', 52703)"
     ]
    }
   ],
   "source": [
    "driver = await uc.start()\n",
    "\n",
    "tab = await driver.get(url)\n",
    "\n",
    "time.sleep(4)\n",
    "\n",
    "# let's handle the cookie nag as well\n",
    "cookie_bar_accept = await tab.find(\"Accepter\", best_match=True)\n",
    "if cookie_bar_accept:\n",
    "    await cookie_bar_accept.click()\n",
    "\n",
    "# await tab.sleep(1)\n",
    "\n",
    "# # Fill text fields\n",
    "# await (await tab.select('input[name=\"name\"]')).send_keys(\"John Doe\")\n",
    "# await (await tab.select('input[name=\"mail\"]')).send_keys(\"john@example.com\")\n",
    "# await (await tab.select('input[name=\"phone\"]')).send_keys(\"123456789\")\n",
    "# await (await tab.select('textarea[name=\"description\"]')).send_keys(\"Projet d'achat.\")\n",
    "\n",
    "# time.sleep(3)\n",
    "# # 1. open dropdown\n",
    "# dropdown = await tab.select('[data-testid=\"contact-form-project-type\"]')\n",
    "# await dropdown.mouse_click()\n",
    "\n",
    "# # 2. wait for options to show\n",
    "# await tab.sleep(0.5)\n",
    "\n",
    "# # 3. select the desired option\n",
    "# option = await tab.find('Acheter', best_match=True)\n",
    "# await option.mouse_click()\n",
    "\n",
    "# # Submit\n",
    "# # submit_btn = await tab.select('button[type=\"submit\"][kind=\"primary\"]')\n",
    "# # await submit_btn.click()\n",
    "\n",
    "\n",
    "# # print(\"finding the email input field\")\n",
    "# # email = await tab.select(\"input[type=email]\")\n",
    "\n",
    "# # # send keys to email field\n",
    "# # print('filling in the \"email\" input field')\n",
    "# # await email.send_keys('trololo@gmail.com')\n",
    "\n",
    "# # # find the name input field\n",
    "# # print(\"finding the name input field\")\n",
    "# # name = await tab.select(\"input[type=text]\")\n",
    "\n",
    "# # # again, send random text\n",
    "# # print('filling in the \"name\" input field')\n",
    "# # await name.send_keys('yeah')\n",
    "\n",
    "# # # find the name input field\n",
    "# # print(\"finding the telephone input field\")\n",
    "# # name = await tab.select(\"input[type=text]\")\n",
    "\n",
    "# # # again, send random text\n",
    "# # print('filling in the \"name\" input field')\n",
    "# # await name.send_keys('yeah')\n",
    "\n",
    "# # driver.stop()\n"
   ]
  },
  {
   "cell_type": "code",
   "execution_count": null,
   "metadata": {},
   "outputs": [],
   "source": []
  }
 ],
 "metadata": {
  "kernelspec": {
   "display_name": "scraping",
   "language": "python",
   "name": "python3"
  },
  "language_info": {
   "codemirror_mode": {
    "name": "ipython",
    "version": 3
   },
   "file_extension": ".py",
   "mimetype": "text/x-python",
   "name": "python",
   "nbconvert_exporter": "python",
   "pygments_lexer": "ipython3",
   "version": "3.11.11"
  }
 },
 "nbformat": 4,
 "nbformat_minor": 2
}
