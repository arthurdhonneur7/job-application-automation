{
 "cells": [
  {
   "cell_type": "code",
   "execution_count": 91,
   "metadata": {},
   "outputs": [],
   "source": [
    "import requests\n",
    "import pandas as pd"
   ]
  },
  {
   "cell_type": "code",
   "execution_count": 92,
   "metadata": {},
   "outputs": [
    {
     "data": {
      "text/html": [
       "<div>\n",
       "<style scoped>\n",
       "    .dataframe tbody tr th:only-of-type {\n",
       "        vertical-align: middle;\n",
       "    }\n",
       "\n",
       "    .dataframe tbody tr th {\n",
       "        vertical-align: top;\n",
       "    }\n",
       "\n",
       "    .dataframe thead th {\n",
       "        text-align: right;\n",
       "    }\n",
       "</style>\n",
       "<table border=\"1\" class=\"dataframe\">\n",
       "  <thead>\n",
       "    <tr style=\"text-align: right;\">\n",
       "      <th></th>\n",
       "      <th>index</th>\n",
       "      <th>linkedin</th>\n",
       "      <th>websites</th>\n",
       "      <th>domain</th>\n",
       "      <th>phone_number</th>\n",
       "      <th>address</th>\n",
       "    </tr>\n",
       "  </thead>\n",
       "  <tbody>\n",
       "    <tr>\n",
       "      <th>0</th>\n",
       "      <td>1788 Capital S.A.</td>\n",
       "      <td>https://www.linkedin.com/company/1788-capital</td>\n",
       "      <td>https://www.1788capital.com/</td>\n",
       "      <td>www.1788capital.com</td>\n",
       "      <td>+41 22 317 40 50</td>\n",
       "      <td>Rue du Rhône 114, 1204 Genève, Switzerland</td>\n",
       "    </tr>\n",
       "    <tr>\n",
       "      <th>1</th>\n",
       "      <td>3T Family Office SA</td>\n",
       "      <td>False</td>\n",
       "      <td>http://www.3tfamilyoffice.com/</td>\n",
       "      <td>www.3tfamilyoffice.com</td>\n",
       "      <td>+41 22 732 11 33</td>\n",
       "      <td>Rue du Conseil-Général 16, 1205 Genève, Switze...</td>\n",
       "    </tr>\n",
       "    <tr>\n",
       "      <th>2</th>\n",
       "      <td>A&amp;T Alpha Credit SA</td>\n",
       "      <td>https://ch.linkedin.com/company/a-t-alpha-cred...</td>\n",
       "      <td>http://alpha-credit.ch/</td>\n",
       "      <td>alpha-credit.ch</td>\n",
       "      <td>+41 22 519 12 50</td>\n",
       "      <td>Quai des Forces-Motrices 14, 1204 Genève, Swit...</td>\n",
       "    </tr>\n",
       "    <tr>\n",
       "      <th>3</th>\n",
       "      <td>Abeloo SA</td>\n",
       "      <td>False</td>\n",
       "      <td>https://abeloo.swiss/</td>\n",
       "      <td>abeloo.swiss</td>\n",
       "      <td>+41 22 700 92 92</td>\n",
       "      <td>Rue François-Versonnex 7, 1207 Genève, Switzer...</td>\n",
       "    </tr>\n",
       "    <tr>\n",
       "      <th>4</th>\n",
       "      <td>ACCURATE WEALTH MANAGEMENT SA</td>\n",
       "      <td>https://www.linkedin.com/company/accuratewealt...</td>\n",
       "      <td>https://www.accuratewealth.ch/</td>\n",
       "      <td>www.accuratewealth.ch</td>\n",
       "      <td>False</td>\n",
       "      <td>Quai de l'Ile 15, 1204 Genève, Switzerland</td>\n",
       "    </tr>\n",
       "  </tbody>\n",
       "</table>\n",
       "</div>"
      ],
      "text/plain": [
       "                           index  \\\n",
       "0              1788 Capital S.A.   \n",
       "1            3T Family Office SA   \n",
       "2            A&T Alpha Credit SA   \n",
       "3                      Abeloo SA   \n",
       "4  ACCURATE WEALTH MANAGEMENT SA   \n",
       "\n",
       "                                            linkedin  \\\n",
       "0      https://www.linkedin.com/company/1788-capital   \n",
       "1                                              False   \n",
       "2  https://ch.linkedin.com/company/a-t-alpha-cred...   \n",
       "3                                              False   \n",
       "4  https://www.linkedin.com/company/accuratewealt...   \n",
       "\n",
       "                         websites                  domain      phone_number  \\\n",
       "0    https://www.1788capital.com/     www.1788capital.com  +41 22 317 40 50   \n",
       "1  http://www.3tfamilyoffice.com/  www.3tfamilyoffice.com  +41 22 732 11 33   \n",
       "2         http://alpha-credit.ch/         alpha-credit.ch  +41 22 519 12 50   \n",
       "3           https://abeloo.swiss/            abeloo.swiss  +41 22 700 92 92   \n",
       "4  https://www.accuratewealth.ch/   www.accuratewealth.ch             False   \n",
       "\n",
       "                                             address  \n",
       "0         Rue du Rhône 114, 1204 Genève, Switzerland  \n",
       "1  Rue du Conseil-Général 16, 1205 Genève, Switze...  \n",
       "2  Quai des Forces-Motrices 14, 1204 Genève, Swit...  \n",
       "3  Rue François-Versonnex 7, 1207 Genève, Switzer...  \n",
       "4         Quai de l'Ile 15, 1204 Genève, Switzerland  "
      ]
     },
     "execution_count": 92,
     "metadata": {},
     "output_type": "execute_result"
    }
   ],
   "source": [
    "path = '../api_google_search/final_data/geneva.csv'\n",
    "df = pd.read_csv(path)\n",
    "\n",
    "df.head()"
   ]
  },
  {
   "cell_type": "markdown",
   "metadata": {},
   "source": [
    "## Emails of the company costing one token"
   ]
  },
  {
   "cell_type": "code",
   "execution_count": 54,
   "metadata": {},
   "outputs": [
    {
     "name": "stdout",
     "output_type": "stream",
     "text": [
      "29\n",
      "www.capitalvision.ch\n"
     ]
    }
   ],
   "source": [
    "import random \n",
    "\n",
    "n = random.randint(0, len(df))\n",
    "\n",
    "domain = df['dict_websites'].apply(lambda x: x.split('/')[2]).iloc[n]\n",
    "\n",
    "print(n)\n",
    "print(domain)\n",
    "#domain = 'i-kapital.fr'"
   ]
  },
  {
   "cell_type": "code",
   "execution_count": 55,
   "metadata": {},
   "outputs": [],
   "source": [
    "# def domain_processing(domain):\n",
    "#     string = domain.split('/')[2]\n",
    "#     split = string.split('.')\n",
    "\n",
    "#     res = \"\"\n",
    "#     for elem in split[1:-1]:\n",
    "        \n",
    "#         res += elem + '.'\n",
    "\n",
    "#     res += split[-1]\n",
    "\n",
    "#     return res"
   ]
  },
  {
   "cell_type": "code",
   "execution_count": 57,
   "metadata": {},
   "outputs": [],
   "source": [
    "api_key = '39e5304d13d3cedc18990cf5e92db0fc5baf8828'\n",
    "\n",
    "url = f'https://api.hunter.io/v2/domain-search?domain={domain}&api_key={api_key}'\n",
    "\n",
    "response = requests.get(url=url)"
   ]
  },
  {
   "cell_type": "code",
   "execution_count": 58,
   "metadata": {},
   "outputs": [],
   "source": [
    "data = response.json()"
   ]
  },
  {
   "cell_type": "code",
   "execution_count": 79,
   "metadata": {},
   "outputs": [
    {
     "name": "stdout",
     "output_type": "stream",
     "text": [
      "The email : amandine.marin@capitalvision.ch\n",
      "The position is :Director of Investment Solutions\n",
      "The linkedin is :https://www.linkedin.com/in/amandine-marin-b4291332\n",
      "-----------------------\n",
      "The email : stephanie.venancio@capitalvision.ch\n",
      "The position is :Executive Assistant\n",
      "The linkedin is :https://www.linkedin.com/in/stephanie-venancio-32488046\n",
      "-----------------------\n",
      "The email : jerome.zenteno@capitalvision.ch\n",
      "The position is :Partner\n",
      "The linkedin is :https://www.linkedin.com/in/jerome-zenteno-104b8017\n",
      "-----------------------\n",
      "The email : denis.gerber@capitalvision.ch\n",
      "The position is :Head of Securitization\n",
      "The linkedin is :https://www.linkedin.com/in/denisgerber\n",
      "-----------------------\n",
      "The email : sandro.jaber@capitalvision.ch\n",
      "The position is :Director\n",
      "The linkedin is :https://www.linkedin.com/in/sandro-jaber-70140334\n",
      "-----------------------\n",
      "The email : ricardo.pliteiro@capitalvision.ch\n",
      "The position is :Director of Wealth Management\n",
      "The linkedin is :https://www.linkedin.com/in/ricardo-pliteiro-18370116\n",
      "-----------------------\n",
      "The email : olivier.thalmann@capitalvision.ch\n",
      "The position is :Managing Director\n",
      "The linkedin is :https://www.linkedin.com/in/olivier-thalmann-9a5ab03\n",
      "-----------------------\n",
      "The email : jose.velasco@capitalvision.ch\n",
      "The position is :Managing Director\n",
      "The linkedin is :https://www.linkedin.com/in/jose-velasco-83aa421b\n",
      "-----------------------\n",
      "The email : operations@capitalvision.ch\n",
      "The position is :None\n",
      "The linkedin is :None\n",
      "-----------------------\n"
     ]
    }
   ],
   "source": [
    "for dct in data['data']['emails']:\n",
    "    \n",
    "    print(f\"The email : {dct['value']}\")\n",
    "    print(f\"The position is :{dct['position']}\")\n",
    "    print(f\"The linkedin is :{dct['linkedin']}\")\n",
    "    print('-----------------------')"
   ]
  },
  {
   "cell_type": "markdown",
   "metadata": {},
   "source": [
    "## Account verification"
   ]
  },
  {
   "cell_type": "code",
   "execution_count": 81,
   "metadata": {},
   "outputs": [],
   "source": [
    "import requests\n",
    "\n",
    "url_account_verif = f'https://api.hunter.io/v2/account?api_key={api_key}'\n",
    "\n",
    "response_accout = requests.get(url=url_account_verif)"
   ]
  },
  {
   "cell_type": "code",
   "execution_count": 83,
   "metadata": {},
   "outputs": [],
   "source": [
    "data_account = response_accout.json()"
   ]
  },
  {
   "cell_type": "code",
   "execution_count": 88,
   "metadata": {},
   "outputs": [
    {
     "data": {
      "text/plain": [
       "25"
      ]
     },
     "execution_count": 88,
     "metadata": {},
     "output_type": "execute_result"
    }
   ],
   "source": [
    "data_account['data']['requests']['searches']['available']"
   ]
  },
  {
   "cell_type": "markdown",
   "metadata": {},
   "source": [
    "## Email count with free endpoint"
   ]
  },
  {
   "cell_type": "code",
   "execution_count": 89,
   "metadata": {},
   "outputs": [],
   "source": [
    "def count_email_domain(domain):\n",
    "\n",
    "    url_count = f'https://api.hunter.io/v2/email-count?domain={domain}'\n",
    "\n",
    "    answer = requests.get(url_count).json()\n",
    "\n",
    "    return answer"
   ]
  },
  {
   "cell_type": "code",
   "execution_count": 90,
   "metadata": {},
   "outputs": [
    {
     "data": {
      "text/plain": [
       "{'data': {'total': 9,\n",
       "  'personal_emails': 8,\n",
       "  'generic_emails': 1,\n",
       "  'department': {'executive': 3,\n",
       "   'it': 0,\n",
       "   'finance': 2,\n",
       "   'management': 2,\n",
       "   'sales': 0,\n",
       "   'legal': 0,\n",
       "   'support': 0,\n",
       "   'hr': 0,\n",
       "   'marketing': 0,\n",
       "   'communication': 0,\n",
       "   'education': 0,\n",
       "   'design': 0,\n",
       "   'health': 0,\n",
       "   'operations': 1},\n",
       "  'seniority': {'junior': 0, 'senior': 0, 'executive': 2}},\n",
       " 'meta': {'params': {'domain': 'capitalvision.ch',\n",
       "   'company': None,\n",
       "   'type': None}}}"
      ]
     },
     "execution_count": 90,
     "metadata": {},
     "output_type": "execute_result"
    }
   ],
   "source": [
    "count_email_domain('www.capitalvision.ch')"
   ]
  },
  {
   "cell_type": "code",
   "execution_count": null,
   "metadata": {},
   "outputs": [],
   "source": []
  }
 ],
 "metadata": {
  "kernelspec": {
   "display_name": "scraping",
   "language": "python",
   "name": "python3"
  },
  "language_info": {
   "codemirror_mode": {
    "name": "ipython",
    "version": 3
   },
   "file_extension": ".py",
   "mimetype": "text/x-python",
   "name": "python",
   "nbconvert_exporter": "python",
   "pygments_lexer": "ipython3",
   "version": "3.11.11"
  }
 },
 "nbformat": 4,
 "nbformat_minor": 2
}
